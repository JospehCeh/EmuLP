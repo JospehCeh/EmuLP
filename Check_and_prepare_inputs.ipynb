{
 "cells": [
  {
   "cell_type": "code",
   "execution_count": 1,
   "id": "5d33be9f",
   "metadata": {},
   "outputs": [],
   "source": [
    "import os\n",
    "import numpy as np\n",
    "import matplotlib.pyplot as plt"
   ]
  },
  {
   "cell_type": "code",
   "execution_count": 2,
   "id": "9e60caaf",
   "metadata": {},
   "outputs": [
    {
     "data": {
      "text/plain": [
       "'/home/joseph/PhotoZ_PhD/lephare_cosmos/COSMOS2020.in'"
      ]
     },
     "execution_count": 2,
     "metadata": {},
     "output_type": "execute_result"
    }
   ],
   "source": [
    "cosmos_cat=os.path.abspath('../lephare_cosmos/COSMOS2020.in')\n",
    "cosmos_cat"
   ]
  },
  {
   "cell_type": "code",
   "execution_count": 3,
   "id": "0f9da43e",
   "metadata": {},
   "outputs": [
    {
     "data": {
      "text/plain": [
       "array([[ 1.00000000e+00, -6.41449459e-32,  1.10222285e-31, ...,\n",
       "         0.00000000e+00,  4.83900000e+00,  3.00400000e+03],\n",
       "       [ 2.00000000e+00,  4.27157946e-30,  2.40319217e-31, ...,\n",
       "         0.00000000e+00,  1.16600000e+00,  1.10040000e+04],\n",
       "       [ 3.00000000e+00,  2.38601703e-28,  4.86178398e-31, ...,\n",
       "         0.00000000e+00,  1.64900000e-01,  1.10040000e+04],\n",
       "       ...,\n",
       "       [ 1.84180000e+04,  6.03762848e-29,  2.91500030e-31, ...,\n",
       "         0.00000000e+00,  2.14000000e-01,  1.10040000e+04],\n",
       "       [ 1.84190000e+04,  7.65085481e-29,  3.44004778e-31, ...,\n",
       "         0.00000000e+00,  3.05300000e-01,  3.50000000e+00],\n",
       "       [ 1.84200000e+04,  2.36320782e-29,  3.08680138e-31, ...,\n",
       "         0.00000000e+00,  3.44800000e-01,  3.50000000e+00]])"
      ]
     },
     "execution_count": 3,
     "metadata": {},
     "output_type": "execute_result"
    }
   ],
   "source": [
    "cosmos_cat_arr = np.loadtxt(cosmos_cat)\n",
    "cosmos_cat_arr"
   ]
  },
  {
   "cell_type": "code",
   "execution_count": 4,
   "id": "8ca6fc05",
   "metadata": {},
   "outputs": [
    {
     "data": {
      "text/plain": [
       "7"
      ]
     },
     "execution_count": 4,
     "metadata": {},
     "output_type": "execute_result"
    }
   ],
   "source": [
    "cosmos_filt_dir = os.path.abspath('../LEPHARE/filt')\n",
    "'''\n",
    "cosmos_filt_list = [ os.path.join(cosmos_filt_dir, filt) for filt in [\"cosmos/u_cfht.lowres\",\\\n",
    "                                                                      \"cosmos/u_new.pb\",\\\n",
    "                                                                      \"hsc/gHSC.pb\",\\\n",
    "                                                                      \"hsc/rHSC.pb\",\\\n",
    "                                                                      \"hsc/iHSC.pb\",\\\n",
    "                                                                      \"hsc/zHSC.pb\",\\\n",
    "                                                                      \"hsc/yHSC.pb\",\\\n",
    "                                                                      \"vista/Y.lowres\",\\\n",
    "                                                                      \"vista/J.lowres\",\\\n",
    "                                                                      \"vista/H.lowres\",\\\n",
    "                                                                      \"vista/K.lowres\",\\\n",
    "                                                                      \"cosmos/IB427.lowres\",\\\n",
    "                                                                      \"cosmos/IB464.lowres\",\\\n",
    "                                                                      \"cosmos/IB484.lowres\",\\\n",
    "                                                                      \"cosmos/IB505.lowres\",\\\n",
    "                                                                      \"cosmos/IB527.lowres\",\\\n",
    "                                                                      \"cosmos/IB574.lowres\",\\\n",
    "                                                                      \"cosmos/IB624.lowres\",\\\n",
    "                                                                      \"cosmos/IB679.lowres\",\\\n",
    "                                                                      \"cosmos/IB709.lowres\",\\\n",
    "                                                                      \"cosmos/IB738.lowres\",\\\n",
    "                                                                      \"cosmos/IB767.lowres\",\\\n",
    "                                                                      \"cosmos/IB827.lowres\",\\\n",
    "                                                                      \"cosmos/NB711.lowres\",\\\n",
    "                                                                      \"cosmos/NB816.lowres\",\\\n",
    "                                                                      \"vista/NB118.lowres\",\\\n",
    "                                                                      \"cosmos/irac_ch1.lowres\",\\\n",
    "                                                                      \"cosmos/irac_ch2.lowres\",\\\n",
    "                                                                      \"cosmos/irac_ch3.lowres\",\\\n",
    "                                                                      \"cosmos/irac_ch4.lowres\"]\n",
    "                   ]\n",
    "'''\n",
    "cosmos_filt_list = [ os.path.join(cosmos_filt_dir, filt) for filt in [\"cosmos/u_cfht.lowres\",\\\n",
    "                                                                      \"cosmos/u_new.pb\",\\\n",
    "                                                                      \"hsc/gHSC.pb\",\\\n",
    "                                                                      \"hsc/rHSC.pb\",\\\n",
    "                                                                      \"hsc/iHSC.pb\",\\\n",
    "                                                                      \"hsc/zHSC.pb\",\\\n",
    "                                                                      \"hsc/yHSC.pb\"]\n",
    "                   ]\n",
    "N_FILT=len(cosmos_filt_list)\n",
    "N_FILT"
   ]
  },
  {
   "cell_type": "code",
   "execution_count": 5,
   "id": "8b1f2ae5",
   "metadata": {},
   "outputs": [
    {
     "data": {
      "text/plain": [
       "16"
      ]
     },
     "execution_count": 5,
     "metadata": {},
     "output_type": "execute_result"
    }
   ],
   "source": [
    "1+2*N_FILT+1"
   ]
  },
  {
   "cell_type": "code",
   "execution_count": 6,
   "id": "9fbc813a",
   "metadata": {},
   "outputs": [
    {
     "data": {
      "text/plain": [
       "['/home/joseph/PhotoZ_PhD/LEPHARE/filt/cosmos/u_cfht.lowres',\n",
       " '/home/joseph/PhotoZ_PhD/LEPHARE/filt/cosmos/u_new.pb',\n",
       " '/home/joseph/PhotoZ_PhD/LEPHARE/filt/hsc/gHSC.pb',\n",
       " '/home/joseph/PhotoZ_PhD/LEPHARE/filt/hsc/rHSC.pb',\n",
       " '/home/joseph/PhotoZ_PhD/LEPHARE/filt/hsc/iHSC.pb',\n",
       " '/home/joseph/PhotoZ_PhD/LEPHARE/filt/hsc/zHSC.pb',\n",
       " '/home/joseph/PhotoZ_PhD/LEPHARE/filt/hsc/yHSC.pb']"
      ]
     },
     "execution_count": 6,
     "metadata": {},
     "output_type": "execute_result"
    }
   ],
   "source": [
    "cosmos_filt_list"
   ]
  },
  {
   "cell_type": "code",
   "execution_count": 7,
   "id": "375d2576",
   "metadata": {},
   "outputs": [
    {
     "name": "stdout",
     "output_type": "stream",
     "text": [
      "7\n"
     ]
    }
   ],
   "source": [
    "#filt_trans_type = [1,1,1,1,1,1,1,1,1,1,1,1,1,1,1,1,1,1,1,1,1,1,1,1,1,1,1,1,1,1]\n",
    "filt_trans_type = [1,1,1,1,1,1,1]\n",
    "assert len(filt_trans_type)==N_FILT\n",
    "print(len(filt_trans_type))"
   ]
  },
  {
   "cell_type": "code",
   "execution_count": 8,
   "id": "0b9ef189",
   "metadata": {},
   "outputs": [
    {
     "data": {
      "image/png": "[encoded data removed]",
      "text/plain": [
       "<Figure size 640x480 with 1 Axes>"
      ]
     },
     "metadata": {},
     "output_type": "display_data"
    }
   ],
   "source": [
    "for filt in cosmos_filt_list: #[:7]+cosmos_filt_list[12:-5]+cosmos_filt_list[-4:]:\n",
    "    x, y = np.loadtxt(filt, unpack=True)\n",
    "    plt.plot(x, y)"
   ]
  },
  {
   "cell_type": "code",
   "execution_count": 9,
   "id": "6ccd1b29",
   "metadata": {},
   "outputs": [
    {
     "data": {
      "text/plain": [
       "{0: {'name': 'cosmos_u_cfht',\n",
       "  'path': '/home/joseph/PhotoZ_PhD/LEPHARE/filt/cosmos/u_cfht.lowres',\n",
       "  'transmission': 'photons'},\n",
       " 1: {'name': 'cosmos_u_new',\n",
       "  'path': '/home/joseph/PhotoZ_PhD/LEPHARE/filt/cosmos/u_new.pb',\n",
       "  'transmission': 'photons'},\n",
       " 2: {'name': 'hsc_gHSC',\n",
       "  'path': '/home/joseph/PhotoZ_PhD/LEPHARE/filt/hsc/gHSC.pb',\n",
       "  'transmission': 'photons'},\n",
       " 3: {'name': 'hsc_rHSC',\n",
       "  'path': '/home/joseph/PhotoZ_PhD/LEPHARE/filt/hsc/rHSC.pb',\n",
       "  'transmission': 'photons'},\n",
       " 4: {'name': 'hsc_iHSC',\n",
       "  'path': '/home/joseph/PhotoZ_PhD/LEPHARE/filt/hsc/iHSC.pb',\n",
       "  'transmission': 'photons'},\n",
       " 5: {'name': 'hsc_zHSC',\n",
       "  'path': '/home/joseph/PhotoZ_PhD/LEPHARE/filt/hsc/zHSC.pb',\n",
       "  'transmission': 'photons'},\n",
       " 6: {'name': 'hsc_yHSC',\n",
       "  'path': '/home/joseph/PhotoZ_PhD/LEPHARE/filt/hsc/yHSC.pb',\n",
       "  'transmission': 'photons'}}"
      ]
     },
     "execution_count": 9,
     "metadata": {},
     "output_type": "execute_result"
    }
   ],
   "source": [
    "filt_dict = {}\n",
    "for _id, (filt, trans_typ) in enumerate(zip(cosmos_filt_list, filt_trans_type)):\n",
    "    folder, file = filt.split('/')[-2:]\n",
    "    name=folder+\"_\"+file.split('.')[0]\n",
    "    if trans_typ == 1:\n",
    "        transm = \"photons\"\n",
    "    else:\n",
    "        transm = \"energy\"\n",
    "    filt_dict[_id] = {\"name\" : name, \"path\" : filt, \"transmission\" : transm}\n",
    "filt_dict"
   ]
  },
  {
   "cell_type": "code",
   "execution_count": 10,
   "id": "32b09942",
   "metadata": {},
   "outputs": [
    {
     "data": {
      "text/plain": [
       "7"
      ]
     },
     "execution_count": 10,
     "metadata": {},
     "output_type": "execute_result"
    }
   ],
   "source": [
    "len(filt_dict.keys())"
   ]
  },
  {
   "cell_type": "code",
   "execution_count": 11,
   "id": "607d80b2",
   "metadata": {},
   "outputs": [
    {
     "data": {
      "text/plain": [
       "[0, 1, 2, 3, 4, 5, 6, 7, 8, 9, 10, 11, 12, 13, 14, 62]"
      ]
     },
     "execution_count": 11,
     "metadata": {},
     "output_type": "execute_result"
    }
   ],
   "source": [
    "_sel = [0]+[1+i for i in range(2*N_FILT)]+[62]\n",
    "_sel"
   ]
  },
  {
   "cell_type": "code",
   "execution_count": 12,
   "id": "3b0a01d5",
   "metadata": {},
   "outputs": [
    {
     "data": {
      "text/plain": [
       "array([4.00000000e+00, 1.73292941e-31, 2.10016195e-31, 6.68536022e-32,\n",
       "       1.10026847e-31, 8.78764385e-33, 7.17811864e-32, 3.13135144e-31,\n",
       "       8.99579025e-32, 1.38700453e-30, 1.13231057e-31, 2.20410927e-30,\n",
       "       1.79501561e-31, 2.21642563e-30, 3.72873344e-31, 5.74200000e+00])"
      ]
     },
     "execution_count": 12,
     "metadata": {},
     "output_type": "execute_result"
    }
   ],
   "source": [
    "cosmos_cat_arr[3, _sel]"
   ]
  },
  {
   "cell_type": "code",
   "execution_count": 13,
   "id": "e3b7ff96",
   "metadata": {},
   "outputs": [
    {
     "data": {
      "text/plain": [
       "(100, 16)"
      ]
     },
     "execution_count": 13,
     "metadata": {},
     "output_type": "execute_result"
    }
   ],
   "source": [
    "cosmos_inp_for_emu_all = cosmos_cat_arr[:, _sel]\n",
    "_sel_z = (cosmos_inp_for_emu_all[:, -1]<=3.0)\n",
    "cosmos_inp_for_emu_zfilt = cosmos_inp_for_emu_all[_sel_z, :]\n",
    "_rand_sel = np.random.choice(np.arange(cosmos_inp_for_emu_zfilt.shape[0]), size=100)\n",
    "cosmos_inp_for_emu = cosmos_inp_for_emu_zfilt[_rand_sel, :]\n",
    "cosmos_inp_for_emu.shape"
   ]
  },
  {
   "cell_type": "code",
   "execution_count": 14,
   "id": "ef025e17",
   "metadata": {},
   "outputs": [
    {
     "data": {
      "text/plain": [
       "(array([19., 22., 22., 10., 12.,  2.,  0.,  5.,  3.,  5.]),\n",
       " array([0.0791 , 0.37049, 0.66188, 0.95327, 1.24466, 1.53605, 1.82744,\n",
       "        2.11883, 2.41022, 2.70161, 2.993  ]),\n",
       " <BarContainer object of 10 artists>)"
      ]
     },
     "execution_count": 14,
     "metadata": {},
     "output_type": "execute_result"
    },
    {
     "data": {
      "image/png": "[encoded data removed]",
      "text/plain": [
       "<Figure size 640x480 with 1 Axes>"
      ]
     },
     "metadata": {},
     "output_type": "display_data"
    }
   ],
   "source": [
    "import matplotlib.pyplot as plt\n",
    "plt.hist(cosmos_inp_for_emu[:,-1])"
   ]
  },
  {
   "cell_type": "code",
   "execution_count": 15,
   "id": "08ad401d",
   "metadata": {},
   "outputs": [],
   "source": [
    "if False:\n",
    "    np.savetxt(\"COSMOS2020_emu_hscOnly.inp\", cosmos_inp_for_emu)"
   ]
  },
  {
   "cell_type": "code",
   "execution_count": 16,
   "id": "0cee131b",
   "metadata": {},
   "outputs": [
    {
     "data": {
      "text/plain": [
       "[11866.0,\n",
       " 8.456284779130406e-32,\n",
       " 1.4712965721092535e-31,\n",
       " 1.0477404492805705e-31,\n",
       " 1.3364981680219287e-31,\n",
       " 1.3883161924454417e-31,\n",
       " 1.9357537857759279e-31]"
      ]
     },
     "execution_count": 16,
     "metadata": {},
     "output_type": "execute_result"
    }
   ],
   "source": [
    "gal_test = cosmos_inp_for_emu[3, :-1]\n",
    "gal_test = [gal_test[2*k] for k in range(len(gal_test)//2)]\n",
    "gal_test"
   ]
  },
  {
   "cell_type": "code",
   "execution_count": 17,
   "id": "bc592a9f",
   "metadata": {},
   "outputs": [],
   "source": [
    "mags_test = -2.5*np.log10(gal_test[1:]) - 48.6"
   ]
  },
  {
   "cell_type": "code",
   "execution_count": 18,
   "id": "98d598b9",
   "metadata": {},
   "outputs": [
    {
     "data": {
      "text/plain": [
       "array([29.082051  , 28.48074944, 28.84936572, 28.58507908, 28.54377903,\n",
       "       28.18287471])"
      ]
     },
     "execution_count": 18,
     "metadata": {},
     "output_type": "execute_result"
    }
   ],
   "source": [
    "mags_test"
   ]
  },
  {
   "cell_type": "code",
   "execution_count": 19,
   "id": "3c78ff25",
   "metadata": {},
   "outputs": [
    {
     "data": {
      "text/plain": [
       "array([], dtype=int64)"
      ]
     },
     "execution_count": 19,
     "metadata": {},
     "output_type": "execute_result"
    }
   ],
   "source": [
    "missing_filts = np.where(np.isnan(mags_test))[0]\n",
    "missing_filts"
   ]
  },
  {
   "cell_type": "code",
   "execution_count": 20,
   "id": "1c7f60ab",
   "metadata": {},
   "outputs": [
    {
     "data": {
      "text/plain": [
       "array([], dtype=int64)"
      ]
     },
     "execution_count": 20,
     "metadata": {},
     "output_type": "execute_result"
    }
   ],
   "source": [
    "check = np.where(np.array(gal_test)<=0.)[0]\n",
    "check"
   ]
  },
  {
   "cell_type": "code",
   "execution_count": 21,
   "id": "7e076c41",
   "metadata": {},
   "outputs": [
    {
     "data": {
      "text/plain": [
       "['/home/joseph/PhotoZ_PhD/LEPHARE/sed/GAL/FORS2_KinCalClus_batch5/AVG_CLUST_CWW_Sbc_ext.sed',\n",
       " '/home/joseph/PhotoZ_PhD/LEPHARE/sed/GAL/FORS2_KinCalClus_batch5/AVG_CLUST_CWW_E_ext.sed',\n",
       " '/home/joseph/PhotoZ_PhD/LEPHARE/sed/GAL/FORS2_KinCalClus_batch5/AVG_CLUST_CWW_Im_ext.sed',\n",
       " '/home/joseph/PhotoZ_PhD/LEPHARE/sed/GAL/FORS2_KinCalClus_batch5/AVG_CLUST_CWW_Scd_ext.sed',\n",
       " '/home/joseph/PhotoZ_PhD/LEPHARE/sed/GAL/FORS2_KinCalClus_batch5/AVG_CLUST_KIN_Sb_ext.sed',\n",
       " '/home/joseph/PhotoZ_PhD/LEPHARE/sed/GAL/FORS2_KinCalClus_batch5/AVG_CLUST_KIN_Sa_ext.sed',\n",
       " '/home/joseph/PhotoZ_PhD/LEPHARE/sed/GAL/FORS2_KinCalClus_batch5/EXT1_CLUST_CWW_Sbc_ext_id496.sed',\n",
       " '/home/joseph/PhotoZ_PhD/LEPHARE/sed/GAL/FORS2_KinCalClus_batch5/EXT2_CLUST_CWW_Sbc_ext_id589.sed',\n",
       " '/home/joseph/PhotoZ_PhD/LEPHARE/sed/GAL/FORS2_KinCalClus_batch5/EXT1_CLUST_CWW_E_ext_id304.sed',\n",
       " '/home/joseph/PhotoZ_PhD/LEPHARE/sed/GAL/FORS2_KinCalClus_batch5/EXT2_CLUST_CWW_E_ext_id379.sed',\n",
       " '/home/joseph/PhotoZ_PhD/LEPHARE/sed/GAL/FORS2_KinCalClus_batch5/EXT1_CLUST_CWW_Im_ext_id344.sed',\n",
       " '/home/joseph/PhotoZ_PhD/LEPHARE/sed/GAL/FORS2_KinCalClus_batch5/EXT2_CLUST_CWW_Im_ext_id699.sed',\n",
       " '/home/joseph/PhotoZ_PhD/LEPHARE/sed/GAL/FORS2_KinCalClus_batch5/EXT1_CLUST_CWW_Scd_ext_id532.sed',\n",
       " '/home/joseph/PhotoZ_PhD/LEPHARE/sed/GAL/FORS2_KinCalClus_batch5/EXT2_CLUST_CWW_Scd_ext_id585.sed',\n",
       " '/home/joseph/PhotoZ_PhD/LEPHARE/sed/GAL/FORS2_KinCalClus_batch5/EXT1_CLUST_KIN_Sb_ext_id497.sed',\n",
       " '/home/joseph/PhotoZ_PhD/LEPHARE/sed/GAL/FORS2_KinCalClus_batch5/EXT2_CLUST_KIN_Sb_ext_id512.sed',\n",
       " '/home/joseph/PhotoZ_PhD/LEPHARE/sed/GAL/FORS2_KinCalClus_batch5/EXT1_CLUST_KIN_Sa_ext_id223.sed',\n",
       " '/home/joseph/PhotoZ_PhD/LEPHARE/sed/GAL/FORS2_KinCalClus_batch5/EXT2_CLUST_KIN_Sa_ext_id674.sed']"
      ]
     },
     "execution_count": 21,
     "metadata": {},
     "output_type": "execute_result"
    }
   ],
   "source": [
    "sed_file=os.path.abspath(\"../lephare_cosmos/SED_FORS2_KinCalClus_SL_v5.list\")\n",
    "sed_list = []\n",
    "with open(sed_file, 'r') as seds:\n",
    "    for sed in seds:\n",
    "        if sed[0] == \"#\":\n",
    "            pass\n",
    "        else:\n",
    "            sed_list.append(os.path.abspath(os.path.join('../LEPHARE/sed/GAL', sed[:-1])))\n",
    "sed_list = [_sed for _sed in sed_list if 'AVG' in _sed or 'EXT' in _sed]\n",
    "sed_list"
   ]
  },
  {
   "cell_type": "code",
   "execution_count": 22,
   "id": "40061e2a",
   "metadata": {},
   "outputs": [
    {
     "data": {
      "text/plain": [
       "{0: {'name': 'AVG_CLUST_CWW_Sbc',\n",
       "  'path': '/home/joseph/PhotoZ_PhD/LEPHARE/sed/GAL/FORS2_KinCalClus_batch5/AVG_CLUST_CWW_Sbc_ext.sed'},\n",
       " 1: {'name': 'AVG_CLUST_CWW_E',\n",
       "  'path': '/home/joseph/PhotoZ_PhD/LEPHARE/sed/GAL/FORS2_KinCalClus_batch5/AVG_CLUST_CWW_E_ext.sed'},\n",
       " 2: {'name': 'AVG_CLUST_CWW_Im',\n",
       "  'path': '/home/joseph/PhotoZ_PhD/LEPHARE/sed/GAL/FORS2_KinCalClus_batch5/AVG_CLUST_CWW_Im_ext.sed'},\n",
       " 3: {'name': 'AVG_CLUST_CWW_Scd',\n",
       "  'path': '/home/joseph/PhotoZ_PhD/LEPHARE/sed/GAL/FORS2_KinCalClus_batch5/AVG_CLUST_CWW_Scd_ext.sed'},\n",
       " 4: {'name': 'AVG_CLUST_KIN_Sb',\n",
       "  'path': '/home/joseph/PhotoZ_PhD/LEPHARE/sed/GAL/FORS2_KinCalClus_batch5/AVG_CLUST_KIN_Sb_ext.sed'},\n",
       " 5: {'name': 'AVG_CLUST_KIN_Sa',\n",
       "  'path': '/home/joseph/PhotoZ_PhD/LEPHARE/sed/GAL/FORS2_KinCalClus_batch5/AVG_CLUST_KIN_Sa_ext.sed'},\n",
       " 6: {'name': 'CWW_Sbc-id496',\n",
       "  'path': '/home/joseph/PhotoZ_PhD/LEPHARE/sed/GAL/FORS2_KinCalClus_batch5/EXT1_CLUST_CWW_Sbc_ext_id496.sed'},\n",
       " 7: {'name': 'CWW_Sbc-id589',\n",
       "  'path': '/home/joseph/PhotoZ_PhD/LEPHARE/sed/GAL/FORS2_KinCalClus_batch5/EXT2_CLUST_CWW_Sbc_ext_id589.sed'},\n",
       " 8: {'name': 'CWW_E-id304',\n",
       "  'path': '/home/joseph/PhotoZ_PhD/LEPHARE/sed/GAL/FORS2_KinCalClus_batch5/EXT1_CLUST_CWW_E_ext_id304.sed'},\n",
       " 9: {'name': 'CWW_E-id379',\n",
       "  'path': '/home/joseph/PhotoZ_PhD/LEPHARE/sed/GAL/FORS2_KinCalClus_batch5/EXT2_CLUST_CWW_E_ext_id379.sed'},\n",
       " 10: {'name': 'CWW_Im-id344',\n",
       "  'path': '/home/joseph/PhotoZ_PhD/LEPHARE/sed/GAL/FORS2_KinCalClus_batch5/EXT1_CLUST_CWW_Im_ext_id344.sed'},\n",
       " 11: {'name': 'CWW_Im-id699',\n",
       "  'path': '/home/joseph/PhotoZ_PhD/LEPHARE/sed/GAL/FORS2_KinCalClus_batch5/EXT2_CLUST_CWW_Im_ext_id699.sed'},\n",
       " 12: {'name': 'CWW_Scd-id532',\n",
       "  'path': '/home/joseph/PhotoZ_PhD/LEPHARE/sed/GAL/FORS2_KinCalClus_batch5/EXT1_CLUST_CWW_Scd_ext_id532.sed'},\n",
       " 13: {'name': 'CWW_Scd-id585',\n",
       "  'path': '/home/joseph/PhotoZ_PhD/LEPHARE/sed/GAL/FORS2_KinCalClus_batch5/EXT2_CLUST_CWW_Scd_ext_id585.sed'},\n",
       " 14: {'name': 'KIN_Sb-id497',\n",
       "  'path': '/home/joseph/PhotoZ_PhD/LEPHARE/sed/GAL/FORS2_KinCalClus_batch5/EXT1_CLUST_KIN_Sb_ext_id497.sed'},\n",
       " 15: {'name': 'KIN_Sb-id512',\n",
       "  'path': '/home/joseph/PhotoZ_PhD/LEPHARE/sed/GAL/FORS2_KinCalClus_batch5/EXT2_CLUST_KIN_Sb_ext_id512.sed'},\n",
       " 16: {'name': 'KIN_Sa-id223',\n",
       "  'path': '/home/joseph/PhotoZ_PhD/LEPHARE/sed/GAL/FORS2_KinCalClus_batch5/EXT1_CLUST_KIN_Sa_ext_id223.sed'},\n",
       " 17: {'name': 'KIN_Sa-id674',\n",
       "  'path': '/home/joseph/PhotoZ_PhD/LEPHARE/sed/GAL/FORS2_KinCalClus_batch5/EXT2_CLUST_KIN_Sa_ext_id674.sed'}}"
      ]
     },
     "execution_count": 22,
     "metadata": {},
     "output_type": "execute_result"
    }
   ],
   "source": [
    "sed_dict = {}\n",
    "for _id, sed in enumerate(sed_list):\n",
    "    file = sed.split('/')[-1]\n",
    "    attrs = file.split(\"_\")\n",
    "    if attrs[0] == \"AVG\":\n",
    "        name=\"_\".join(attrs[:4])\n",
    "    else:\n",
    "        name=\"_\".join(attrs[2:4])+\"-\"+(attrs[-1]).split('.')[0]\n",
    "    sed_dict[_id] = {'name' : name, 'path' : sed}\n",
    "sed_dict"
   ]
  },
  {
   "cell_type": "code",
   "execution_count": 23,
   "id": "4a34db6e",
   "metadata": {},
   "outputs": [
    {
     "data": {
      "text/plain": [
       "{'path': '/home/joseph/PhotoZ_PhD/EmuLP/COSMOS2020_emu_hscOnly.inp',\n",
       " 'type': 'F'}"
      ]
     },
     "execution_count": 23,
     "metadata": {},
     "output_type": "execute_result"
    }
   ],
   "source": [
    "cosmo_dict = {\"h0\": 70.0, \"om0\": 0.3, \"l0\": 0.7}\n",
    "z_grid_dict = {\"z_min\": 0.01, \"z_max\": 3., \"z_step\": 0.1}\n",
    "wl_grid_dict = {\"lambda_min\": 100., \"lambda_max\": 11000., \"lambda_step\": 1.}\n",
    "extinc_dict = {0 : {\"name\" : \"Calzetti\", \"path\" : os.path.abspath('../LEPHARE/ext/SB_calzetti.dat')},\\\n",
    "               1 : {\"name\" : \"Prevot\", \"path\" : os.path.abspath('../LEPHARE/ext/SMC_prevot.dat')},\\\n",
    "              }\n",
    "ebv_list = [0., 0.1, 0.2, 0.4] #[0., 0.05, 0.1, 0.15, 0.2, 0.25, 0.3, 0.35, 0.4, 0.5]\n",
    "estimator = \"chi2\"\n",
    "data_inp_dict = {\"path\": os.path.abspath(\"COSMOS2020_emu_hscOnly.inp\"), \"type\": \"F\"}\n",
    "data_inp_dict"
   ]
  },
  {
   "cell_type": "code",
   "execution_count": 24,
   "id": "087c3f11",
   "metadata": {},
   "outputs": [
    {
     "data": {
      "text/plain": [
       "{'Cosmology': {'h0': 70.0, 'om0': 0.3, 'l0': 0.7},\n",
       " 'Z_GRID': {'z_min': 0.01, 'z_max': 3.0, 'z_step': 0.1},\n",
       " 'WL_GRID': {'lambda_min': 100.0, 'lambda_max': 11000.0, 'lambda_step': 1.0},\n",
       " 'Templates': {0: {'name': 'AVG_CLUST_CWW_Sbc',\n",
       "   'path': '/home/joseph/PhotoZ_PhD/LEPHARE/sed/GAL/FORS2_KinCalClus_batch5/AVG_CLUST_CWW_Sbc_ext.sed'},\n",
       "  1: {'name': 'AVG_CLUST_CWW_E',\n",
       "   'path': '/home/joseph/PhotoZ_PhD/LEPHARE/sed/GAL/FORS2_KinCalClus_batch5/AVG_CLUST_CWW_E_ext.sed'},\n",
       "  2: {'name': 'AVG_CLUST_CWW_Im',\n",
       "   'path': '/home/joseph/PhotoZ_PhD/LEPHARE/sed/GAL/FORS2_KinCalClus_batch5/AVG_CLUST_CWW_Im_ext.sed'},\n",
       "  3: {'name': 'AVG_CLUST_CWW_Scd',\n",
       "   'path': '/home/joseph/PhotoZ_PhD/LEPHARE/sed/GAL/FORS2_KinCalClus_batch5/AVG_CLUST_CWW_Scd_ext.sed'},\n",
       "  4: {'name': 'AVG_CLUST_KIN_Sb',\n",
       "   'path': '/home/joseph/PhotoZ_PhD/LEPHARE/sed/GAL/FORS2_KinCalClus_batch5/AVG_CLUST_KIN_Sb_ext.sed'},\n",
       "  5: {'name': 'AVG_CLUST_KIN_Sa',\n",
       "   'path': '/home/joseph/PhotoZ_PhD/LEPHARE/sed/GAL/FORS2_KinCalClus_batch5/AVG_CLUST_KIN_Sa_ext.sed'},\n",
       "  6: {'name': 'CWW_Sbc-id496',\n",
       "   'path': '/home/joseph/PhotoZ_PhD/LEPHARE/sed/GAL/FORS2_KinCalClus_batch5/EXT1_CLUST_CWW_Sbc_ext_id496.sed'},\n",
       "  7: {'name': 'CWW_Sbc-id589',\n",
       "   'path': '/home/joseph/PhotoZ_PhD/LEPHARE/sed/GAL/FORS2_KinCalClus_batch5/EXT2_CLUST_CWW_Sbc_ext_id589.sed'},\n",
       "  8: {'name': 'CWW_E-id304',\n",
       "   'path': '/home/joseph/PhotoZ_PhD/LEPHARE/sed/GAL/FORS2_KinCalClus_batch5/EXT1_CLUST_CWW_E_ext_id304.sed'},\n",
       "  9: {'name': 'CWW_E-id379',\n",
       "   'path': '/home/joseph/PhotoZ_PhD/LEPHARE/sed/GAL/FORS2_KinCalClus_batch5/EXT2_CLUST_CWW_E_ext_id379.sed'},\n",
       "  10: {'name': 'CWW_Im-id344',\n",
       "   'path': '/home/joseph/PhotoZ_PhD/LEPHARE/sed/GAL/FORS2_KinCalClus_batch5/EXT1_CLUST_CWW_Im_ext_id344.sed'},\n",
       "  11: {'name': 'CWW_Im-id699',\n",
       "   'path': '/home/joseph/PhotoZ_PhD/LEPHARE/sed/GAL/FORS2_KinCalClus_batch5/EXT2_CLUST_CWW_Im_ext_id699.sed'},\n",
       "  12: {'name': 'CWW_Scd-id532',\n",
       "   'path': '/home/joseph/PhotoZ_PhD/LEPHARE/sed/GAL/FORS2_KinCalClus_batch5/EXT1_CLUST_CWW_Scd_ext_id532.sed'},\n",
       "  13: {'name': 'CWW_Scd-id585',\n",
       "   'path': '/home/joseph/PhotoZ_PhD/LEPHARE/sed/GAL/FORS2_KinCalClus_batch5/EXT2_CLUST_CWW_Scd_ext_id585.sed'},\n",
       "  14: {'name': 'KIN_Sb-id497',\n",
       "   'path': '/home/joseph/PhotoZ_PhD/LEPHARE/sed/GAL/FORS2_KinCalClus_batch5/EXT1_CLUST_KIN_Sb_ext_id497.sed'},\n",
       "  15: {'name': 'KIN_Sb-id512',\n",
       "   'path': '/home/joseph/PhotoZ_PhD/LEPHARE/sed/GAL/FORS2_KinCalClus_batch5/EXT2_CLUST_KIN_Sb_ext_id512.sed'},\n",
       "  16: {'name': 'KIN_Sa-id223',\n",
       "   'path': '/home/joseph/PhotoZ_PhD/LEPHARE/sed/GAL/FORS2_KinCalClus_batch5/EXT1_CLUST_KIN_Sa_ext_id223.sed'},\n",
       "  17: {'name': 'KIN_Sa-id674',\n",
       "   'path': '/home/joseph/PhotoZ_PhD/LEPHARE/sed/GAL/FORS2_KinCalClus_batch5/EXT2_CLUST_KIN_Sa_ext_id674.sed'}},\n",
       " 'Filters': {0: {'name': 'cosmos_u_cfht',\n",
       "   'path': '/home/joseph/PhotoZ_PhD/LEPHARE/filt/cosmos/u_cfht.lowres',\n",
       "   'transmission': 'photons'},\n",
       "  1: {'name': 'cosmos_u_new',\n",
       "   'path': '/home/joseph/PhotoZ_PhD/LEPHARE/filt/cosmos/u_new.pb',\n",
       "   'transmission': 'photons'},\n",
       "  2: {'name': 'hsc_gHSC',\n",
       "   'path': '/home/joseph/PhotoZ_PhD/LEPHARE/filt/hsc/gHSC.pb',\n",
       "   'transmission': 'photons'},\n",
       "  3: {'name': 'hsc_rHSC',\n",
       "   'path': '/home/joseph/PhotoZ_PhD/LEPHARE/filt/hsc/rHSC.pb',\n",
       "   'transmission': 'photons'},\n",
       "  4: {'name': 'hsc_iHSC',\n",
       "   'path': '/home/joseph/PhotoZ_PhD/LEPHARE/filt/hsc/iHSC.pb',\n",
       "   'transmission': 'photons'},\n",
       "  5: {'name': 'hsc_zHSC',\n",
       "   'path': '/home/joseph/PhotoZ_PhD/LEPHARE/filt/hsc/zHSC.pb',\n",
       "   'transmission': 'photons'},\n",
       "  6: {'name': 'hsc_yHSC',\n",
       "   'path': '/home/joseph/PhotoZ_PhD/LEPHARE/filt/hsc/yHSC.pb',\n",
       "   'transmission': 'photons'}},\n",
       " 'Dataset': {'path': '/home/joseph/PhotoZ_PhD/EmuLP/COSMOS2020_emu_hscOnly.inp',\n",
       "  'type': 'F'},\n",
       " 'Extinctions': {0: {'name': 'Calzetti',\n",
       "   'path': '/home/joseph/PhotoZ_PhD/LEPHARE/ext/SB_calzetti.dat'},\n",
       "  1: {'name': 'Prevot',\n",
       "   'path': '/home/joseph/PhotoZ_PhD/LEPHARE/ext/SMC_prevot.dat'}},\n",
       " 'e_BV': [0.0, 0.1, 0.2, 0.4],\n",
       " 'Estimator': 'chi2',\n",
       " 'save results': True,\n",
       " 'run name': 'COSMOS2020-with-FORS2-HSC_only-jaxcosmo'}"
      ]
     },
     "execution_count": 24,
     "metadata": {},
     "output_type": "execute_result"
    }
   ],
   "source": [
    "run_opt_dict = {\"Cosmology\" : cosmo_dict,\\\n",
    "                \"Z_GRID\" : z_grid_dict,\\\n",
    "                \"WL_GRID\" : wl_grid_dict,\\\n",
    "                \"Templates\" : sed_dict,\\\n",
    "                \"Filters\" : filt_dict,\\\n",
    "                \"Dataset\" : data_inp_dict,\\\n",
    "                \"Extinctions\" : extinc_dict,\\\n",
    "                \"e_BV\": ebv_list,\\\n",
    "                \"Estimator\" : estimator,\\\n",
    "                \"save results\" : True,\\\n",
    "                \"run name\" : \"COSMOS2020-with-FORS2-HSC_only-jaxcosmo\"\n",
    "               }\n",
    "run_opt_dict"
   ]
  },
  {
   "cell_type": "code",
   "execution_count": 25,
   "id": "b8ceec97",
   "metadata": {},
   "outputs": [],
   "source": [
    "import json"
   ]
  },
  {
   "cell_type": "code",
   "execution_count": 26,
   "id": "6b1928b0",
   "metadata": {},
   "outputs": [],
   "source": [
    "if True:\n",
    "    with open(\"COSMOS2020-with-FORS2-HSC_only-jaxcosmo.json\", \"w\") as wf:\n",
    "        json.dump(run_opt_dict, wf)"
   ]
  }
 ],
 "metadata": {
  "kernelspec": {
   "display_name": "Python 3 (ipykernel)",
   "language": "python",
   "name": "python3"
  },
  "language_info": {
   "codemirror_mode": {
    "name": "ipython",
    "version": 3
   },
   "file_extension": ".py",
   "mimetype": "text/x-python",
   "name": "python",
   "nbconvert_exporter": "python",
   "pygments_lexer": "ipython3",
   "version": "3.11.0"
  }
 },
 "nbformat": 4,
 "nbformat_minor": 5
}
