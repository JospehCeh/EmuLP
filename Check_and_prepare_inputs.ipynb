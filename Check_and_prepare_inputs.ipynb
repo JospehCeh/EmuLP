{
 "cells": [
  {
   "cell_type": "code",
   "execution_count": 1,
   "id": "5d33be9f",
   "metadata": {},
   "outputs": [],
   "source": [
    "import os\n",
    "import numpy as np\n",
    "import matplotlib.pyplot as plt"
   ]
  },
  {
   "cell_type": "code",
   "execution_count": 2,
   "id": "9e60caaf",
   "metadata": {},
   "outputs": [
    {
     "data": {
      "text/plain": [
       "'/home/joseph/PhotoZ_PhD/lephare_cosmos/COSMOS2020.in'"
      ]
     },
     "execution_count": 2,
     "metadata": {},
     "output_type": "execute_result"
    }
   ],
   "source": [
    "cosmos_cat=os.path.abspath('../lephare_cosmos/COSMOS2020.in')\n",
    "cosmos_cat"
   ]
  },
  {
   "cell_type": "code",
   "execution_count": 3,
   "id": "0f9da43e",
   "metadata": {},
   "outputs": [
    {
     "data": {
      "text/plain": [
       "(18420, 64)"
      ]
     },
     "execution_count": 3,
     "metadata": {},
     "output_type": "execute_result"
    }
   ],
   "source": [
    "cosmos_cat_arr = np.loadtxt(cosmos_cat)\n",
    "cosmos_cat_arr.shape"
   ]
  },
  {
   "cell_type": "code",
   "execution_count": 4,
   "id": "8ca6fc05",
   "metadata": {},
   "outputs": [
    {
     "data": {
      "text/plain": [
       "30"
      ]
     },
     "execution_count": 4,
     "metadata": {},
     "output_type": "execute_result"
    }
   ],
   "source": [
    "cosmos_filt_dir = os.path.abspath('../LEPHARE/filt')\n",
    "cosmos_filt_list = [ os.path.join(cosmos_filt_dir, filt) for filt in [\"cosmos/u_cfht.lowres\",\\\n",
    "                                                                      \"cosmos/u_new.pb\",\\\n",
    "                                                                      \"hsc/gHSC.pb\",\\\n",
    "                                                                      \"hsc/rHSC.pb\",\\\n",
    "                                                                      \"hsc/iHSC.pb\",\\\n",
    "                                                                      \"hsc/zHSC.pb\",\\\n",
    "                                                                      \"hsc/yHSC.pb\",\\\n",
    "                                                                      \"vista/Y.lowres\",\\\n",
    "                                                                      \"vista/J.lowres\",\\\n",
    "                                                                      \"vista/H.lowres\",\\\n",
    "                                                                      \"vista/K.lowres\",\\\n",
    "                                                                      \"cosmos/IB427.lowres\",\\\n",
    "                                                                      \"cosmos/IB464.lowres\",\\\n",
    "                                                                      \"cosmos/IB484.lowres\",\\\n",
    "                                                                      \"cosmos/IB505.lowres\",\\\n",
    "                                                                      \"cosmos/IB527.lowres\",\\\n",
    "                                                                      \"cosmos/IB574.lowres\",\\\n",
    "                                                                      \"cosmos/IB624.lowres\",\\\n",
    "                                                                      \"cosmos/IB679.lowres\",\\\n",
    "                                                                      \"cosmos/IB709.lowres\",\\\n",
    "                                                                      \"cosmos/IB738.lowres\",\\\n",
    "                                                                      \"cosmos/IB767.lowres\",\\\n",
    "                                                                      \"cosmos/IB827.lowres\",\\\n",
    "                                                                      \"cosmos/NB711.lowres\",\\\n",
    "                                                                      \"cosmos/NB816.lowres\",\\\n",
    "                                                                      \"vista/NB118.lowres\",\\\n",
    "                                                                      \"cosmos/irac_ch1.lowres\",\\\n",
    "                                                                      \"cosmos/irac_ch2.lowres\",\\\n",
    "                                                                      \"cosmos/irac_ch3.lowres\",\\\n",
    "                                                                      \"cosmos/irac_ch4.lowres\"]\n",
    "                   ]\n",
    "N_FILT=len(cosmos_filt_list)\n",
    "N_FILT"
   ]
  },
  {
   "cell_type": "code",
   "execution_count": 5,
   "id": "8b1f2ae5",
   "metadata": {},
   "outputs": [
    {
     "data": {
      "text/plain": [
       "62"
      ]
     },
     "execution_count": 5,
     "metadata": {},
     "output_type": "execute_result"
    }
   ],
   "source": [
    "1+2*N_FILT+1"
   ]
  },
  {
   "cell_type": "code",
   "execution_count": 6,
   "id": "9fbc813a",
   "metadata": {},
   "outputs": [
    {
     "data": {
      "text/plain": [
       "['/home/joseph/PhotoZ_PhD/LEPHARE/filt/cosmos/u_cfht.lowres',\n",
       " '/home/joseph/PhotoZ_PhD/LEPHARE/filt/cosmos/u_new.pb',\n",
       " '/home/joseph/PhotoZ_PhD/LEPHARE/filt/hsc/gHSC.pb',\n",
       " '/home/joseph/PhotoZ_PhD/LEPHARE/filt/hsc/rHSC.pb',\n",
       " '/home/joseph/PhotoZ_PhD/LEPHARE/filt/hsc/iHSC.pb',\n",
       " '/home/joseph/PhotoZ_PhD/LEPHARE/filt/hsc/zHSC.pb',\n",
       " '/home/joseph/PhotoZ_PhD/LEPHARE/filt/hsc/yHSC.pb',\n",
       " '/home/joseph/PhotoZ_PhD/LEPHARE/filt/vista/Y.lowres',\n",
       " '/home/joseph/PhotoZ_PhD/LEPHARE/filt/vista/J.lowres',\n",
       " '/home/joseph/PhotoZ_PhD/LEPHARE/filt/vista/H.lowres',\n",
       " '/home/joseph/PhotoZ_PhD/LEPHARE/filt/vista/K.lowres',\n",
       " '/home/joseph/PhotoZ_PhD/LEPHARE/filt/cosmos/IB427.lowres',\n",
       " '/home/joseph/PhotoZ_PhD/LEPHARE/filt/cosmos/IB464.lowres',\n",
       " '/home/joseph/PhotoZ_PhD/LEPHARE/filt/cosmos/IB484.lowres',\n",
       " '/home/joseph/PhotoZ_PhD/LEPHARE/filt/cosmos/IB505.lowres',\n",
       " '/home/joseph/PhotoZ_PhD/LEPHARE/filt/cosmos/IB527.lowres',\n",
       " '/home/joseph/PhotoZ_PhD/LEPHARE/filt/cosmos/IB574.lowres',\n",
       " '/home/joseph/PhotoZ_PhD/LEPHARE/filt/cosmos/IB624.lowres',\n",
       " '/home/joseph/PhotoZ_PhD/LEPHARE/filt/cosmos/IB679.lowres',\n",
       " '/home/joseph/PhotoZ_PhD/LEPHARE/filt/cosmos/IB709.lowres',\n",
       " '/home/joseph/PhotoZ_PhD/LEPHARE/filt/cosmos/IB738.lowres',\n",
       " '/home/joseph/PhotoZ_PhD/LEPHARE/filt/cosmos/IB767.lowres',\n",
       " '/home/joseph/PhotoZ_PhD/LEPHARE/filt/cosmos/IB827.lowres',\n",
       " '/home/joseph/PhotoZ_PhD/LEPHARE/filt/cosmos/NB711.lowres',\n",
       " '/home/joseph/PhotoZ_PhD/LEPHARE/filt/cosmos/NB816.lowres',\n",
       " '/home/joseph/PhotoZ_PhD/LEPHARE/filt/vista/NB118.lowres',\n",
       " '/home/joseph/PhotoZ_PhD/LEPHARE/filt/cosmos/irac_ch1.lowres',\n",
       " '/home/joseph/PhotoZ_PhD/LEPHARE/filt/cosmos/irac_ch2.lowres',\n",
       " '/home/joseph/PhotoZ_PhD/LEPHARE/filt/cosmos/irac_ch3.lowres',\n",
       " '/home/joseph/PhotoZ_PhD/LEPHARE/filt/cosmos/irac_ch4.lowres']"
      ]
     },
     "execution_count": 6,
     "metadata": {},
     "output_type": "execute_result"
    }
   ],
   "source": [
    "cosmos_filt_list"
   ]
  },
  {
   "cell_type": "code",
   "execution_count": 7,
   "id": "375d2576",
   "metadata": {},
   "outputs": [
    {
     "name": "stdout",
     "output_type": "stream",
     "text": [
      "30\n"
     ]
    }
   ],
   "source": [
    "filt_trans_type = [1,1,1,1,1,1,1,1,1,1,1,1,1,1,1,1,1,1,1,1,1,1,1,1,1,1,1,1,1,1]\n",
    "assert len(filt_trans_type)==N_FILT\n",
    "print(len(filt_trans_type))"
   ]
  },
  {
   "cell_type": "code",
   "execution_count": 8,
   "id": "0b9ef189",
   "metadata": {},
   "outputs": [
    {
     "data": {
      "image/png": "[encoded data removed]",
      "text/plain": [
       "<Figure size 640x480 with 1 Axes>"
      ]
     },
     "metadata": {},
     "output_type": "display_data"
    }
   ],
   "source": [
    "for filt in cosmos_filt_list[:7]+cosmos_filt_list[12:-5]+cosmos_filt_list[-4:]:\n",
    "    x, y = np.loadtxt(filt, unpack=True)\n",
    "    plt.plot(x, y)"
   ]
  },
  {
   "cell_type": "code",
   "execution_count": 9,
   "id": "6ccd1b29",
   "metadata": {},
   "outputs": [
    {
     "data": {
      "text/plain": [
       "{'cosmos_u_cfht': {'path': '/home/joseph/PhotoZ_PhD/LEPHARE/filt/cosmos/u_cfht.lowres',\n",
       "  'transmission': 'photons'},\n",
       " 'cosmos_u_new': {'path': '/home/joseph/PhotoZ_PhD/LEPHARE/filt/cosmos/u_new.pb',\n",
       "  'transmission': 'photons'},\n",
       " 'hsc_gHSC': {'path': '/home/joseph/PhotoZ_PhD/LEPHARE/filt/hsc/gHSC.pb',\n",
       "  'transmission': 'photons'},\n",
       " 'hsc_rHSC': {'path': '/home/joseph/PhotoZ_PhD/LEPHARE/filt/hsc/rHSC.pb',\n",
       "  'transmission': 'photons'},\n",
       " 'hsc_iHSC': {'path': '/home/joseph/PhotoZ_PhD/LEPHARE/filt/hsc/iHSC.pb',\n",
       "  'transmission': 'photons'},\n",
       " 'hsc_zHSC': {'path': '/home/joseph/PhotoZ_PhD/LEPHARE/filt/hsc/zHSC.pb',\n",
       "  'transmission': 'photons'},\n",
       " 'hsc_yHSC': {'path': '/home/joseph/PhotoZ_PhD/LEPHARE/filt/hsc/yHSC.pb',\n",
       "  'transmission': 'photons'},\n",
       " 'vista_Y': {'path': '/home/joseph/PhotoZ_PhD/LEPHARE/filt/vista/Y.lowres',\n",
       "  'transmission': 'photons'},\n",
       " 'vista_J': {'path': '/home/joseph/PhotoZ_PhD/LEPHARE/filt/vista/J.lowres',\n",
       "  'transmission': 'photons'},\n",
       " 'vista_H': {'path': '/home/joseph/PhotoZ_PhD/LEPHARE/filt/vista/H.lowres',\n",
       "  'transmission': 'photons'},\n",
       " 'vista_K': {'path': '/home/joseph/PhotoZ_PhD/LEPHARE/filt/vista/K.lowres',\n",
       "  'transmission': 'photons'},\n",
       " 'cosmos_IB427': {'path': '/home/joseph/PhotoZ_PhD/LEPHARE/filt/cosmos/IB427.lowres',\n",
       "  'transmission': 'photons'},\n",
       " 'cosmos_IB464': {'path': '/home/joseph/PhotoZ_PhD/LEPHARE/filt/cosmos/IB464.lowres',\n",
       "  'transmission': 'photons'},\n",
       " 'cosmos_IB484': {'path': '/home/joseph/PhotoZ_PhD/LEPHARE/filt/cosmos/IB484.lowres',\n",
       "  'transmission': 'photons'},\n",
       " 'cosmos_IB505': {'path': '/home/joseph/PhotoZ_PhD/LEPHARE/filt/cosmos/IB505.lowres',\n",
       "  'transmission': 'photons'},\n",
       " 'cosmos_IB527': {'path': '/home/joseph/PhotoZ_PhD/LEPHARE/filt/cosmos/IB527.lowres',\n",
       "  'transmission': 'photons'},\n",
       " 'cosmos_IB574': {'path': '/home/joseph/PhotoZ_PhD/LEPHARE/filt/cosmos/IB574.lowres',\n",
       "  'transmission': 'photons'},\n",
       " 'cosmos_IB624': {'path': '/home/joseph/PhotoZ_PhD/LEPHARE/filt/cosmos/IB624.lowres',\n",
       "  'transmission': 'photons'},\n",
       " 'cosmos_IB679': {'path': '/home/joseph/PhotoZ_PhD/LEPHARE/filt/cosmos/IB679.lowres',\n",
       "  'transmission': 'photons'},\n",
       " 'cosmos_IB709': {'path': '/home/joseph/PhotoZ_PhD/LEPHARE/filt/cosmos/IB709.lowres',\n",
       "  'transmission': 'photons'},\n",
       " 'cosmos_IB738': {'path': '/home/joseph/PhotoZ_PhD/LEPHARE/filt/cosmos/IB738.lowres',\n",
       "  'transmission': 'photons'},\n",
       " 'cosmos_IB767': {'path': '/home/joseph/PhotoZ_PhD/LEPHARE/filt/cosmos/IB767.lowres',\n",
       "  'transmission': 'photons'},\n",
       " 'cosmos_IB827': {'path': '/home/joseph/PhotoZ_PhD/LEPHARE/filt/cosmos/IB827.lowres',\n",
       "  'transmission': 'photons'},\n",
       " 'cosmos_NB711': {'path': '/home/joseph/PhotoZ_PhD/LEPHARE/filt/cosmos/NB711.lowres',\n",
       "  'transmission': 'photons'},\n",
       " 'cosmos_NB816': {'path': '/home/joseph/PhotoZ_PhD/LEPHARE/filt/cosmos/NB816.lowres',\n",
       "  'transmission': 'photons'},\n",
       " 'vista_NB118': {'path': '/home/joseph/PhotoZ_PhD/LEPHARE/filt/vista/NB118.lowres',\n",
       "  'transmission': 'photons'},\n",
       " 'cosmos_irac_ch1': {'path': '/home/joseph/PhotoZ_PhD/LEPHARE/filt/cosmos/irac_ch1.lowres',\n",
       "  'transmission': 'photons'},\n",
       " 'cosmos_irac_ch2': {'path': '/home/joseph/PhotoZ_PhD/LEPHARE/filt/cosmos/irac_ch2.lowres',\n",
       "  'transmission': 'photons'},\n",
       " 'cosmos_irac_ch3': {'path': '/home/joseph/PhotoZ_PhD/LEPHARE/filt/cosmos/irac_ch3.lowres',\n",
       "  'transmission': 'photons'},\n",
       " 'cosmos_irac_ch4': {'path': '/home/joseph/PhotoZ_PhD/LEPHARE/filt/cosmos/irac_ch4.lowres',\n",
       "  'transmission': 'photons'}}"
      ]
     },
     "execution_count": 9,
     "metadata": {},
     "output_type": "execute_result"
    }
   ],
   "source": [
    "filt_dict = {}\n",
    "for filt, trans_typ in zip(cosmos_filt_list, filt_trans_type):\n",
    "    folder, file = filt.split('/')[-2:]\n",
    "    name=folder+\"_\"+file.split('.')[0]\n",
    "    if trans_typ == 1:\n",
    "        transm = \"photons\"\n",
    "    else:\n",
    "        transm = \"energy\"\n",
    "    filt_dict[name] = {\"path\" : filt, \"transmission\" : transm}\n",
    "filt_dict"
   ]
  },
  {
   "cell_type": "code",
   "execution_count": 10,
   "id": "32b09942",
   "metadata": {},
   "outputs": [
    {
     "data": {
      "text/plain": [
       "30"
      ]
     },
     "execution_count": 10,
     "metadata": {},
     "output_type": "execute_result"
    }
   ],
   "source": [
    "len(filt_dict.keys())"
   ]
  },
  {
   "cell_type": "code",
   "execution_count": 11,
   "id": "607d80b2",
   "metadata": {},
   "outputs": [
    {
     "data": {
      "text/plain": [
       "[0,\n",
       " 1,\n",
       " 2,\n",
       " 3,\n",
       " 4,\n",
       " 5,\n",
       " 6,\n",
       " 7,\n",
       " 8,\n",
       " 9,\n",
       " 10,\n",
       " 11,\n",
       " 12,\n",
       " 13,\n",
       " 14,\n",
       " 15,\n",
       " 16,\n",
       " 17,\n",
       " 18,\n",
       " 19,\n",
       " 20,\n",
       " 21,\n",
       " 22,\n",
       " 23,\n",
       " 24,\n",
       " 25,\n",
       " 26,\n",
       " 27,\n",
       " 28,\n",
       " 29,\n",
       " 30,\n",
       " 31,\n",
       " 32,\n",
       " 33,\n",
       " 34,\n",
       " 35,\n",
       " 36,\n",
       " 37,\n",
       " 38,\n",
       " 39,\n",
       " 40,\n",
       " 41,\n",
       " 42,\n",
       " 43,\n",
       " 44,\n",
       " 45,\n",
       " 46,\n",
       " 47,\n",
       " 48,\n",
       " 49,\n",
       " 50,\n",
       " 51,\n",
       " 52,\n",
       " 53,\n",
       " 54,\n",
       " 55,\n",
       " 56,\n",
       " 57,\n",
       " 58,\n",
       " 59,\n",
       " 60,\n",
       " 62]"
      ]
     },
     "execution_count": 11,
     "metadata": {},
     "output_type": "execute_result"
    }
   ],
   "source": [
    "_sel = [0]+[1+i for i in range(2*N_FILT)]+[2*N_FILT+2]\n",
    "_sel"
   ]
  },
  {
   "cell_type": "code",
   "execution_count": 12,
   "id": "e3b7ff96",
   "metadata": {},
   "outputs": [
    {
     "data": {
      "text/plain": [
       "(100, 62)"
      ]
     },
     "execution_count": 12,
     "metadata": {},
     "output_type": "execute_result"
    }
   ],
   "source": [
    "cosmos_inp_for_emu_all = cosmos_cat_arr[:, _sel]\n",
    "_rand_sel = np.random.choice(np.arange(cosmos_inp_for_emu_all.shape[0]), size=100)\n",
    "cosmos_inp_for_emu = cosmos_inp_for_emu_all[_rand_sel, :]\n",
    "cosmos_inp_for_emu.shape"
   ]
  },
  {
   "cell_type": "code",
   "execution_count": 13,
   "id": "ef025e17",
   "metadata": {},
   "outputs": [
    {
     "data": {
      "text/plain": [
       "(array([29., 36., 20.,  3.,  2.,  5.,  3.,  1.,  0.,  1.]),\n",
       " array([0.0785 , 0.52267, 0.96684, 1.41101, 1.85518, 2.29935, 2.74352,\n",
       "        3.18769, 3.63186, 4.07603, 4.5202 ]),\n",
       " <BarContainer object of 10 artists>)"
      ]
     },
     "execution_count": 13,
     "metadata": {},
     "output_type": "execute_result"
    },
    {
     "data": {
      "image/png": "[encoded data removed]",
      "text/plain": [
       "<Figure size 640x480 with 1 Axes>"
      ]
     },
     "metadata": {},
     "output_type": "display_data"
    }
   ],
   "source": [
    "import matplotlib.pyplot as plt\n",
    "plt.hist(cosmos_inp_for_emu[:,-1])"
   ]
  },
  {
   "cell_type": "code",
   "execution_count": 14,
   "id": "08ad401d",
   "metadata": {},
   "outputs": [],
   "source": [
    "np.savetxt(\"COSMOS2020_emu.inp\", cosmos_inp_for_emu)"
   ]
  },
  {
   "cell_type": "code",
   "execution_count": 15,
   "id": "0cee131b",
   "metadata": {},
   "outputs": [
    {
     "data": {
      "text/plain": [
       "[2.205111996809225e-29,\n",
       " 2.2905500107241654e-29,\n",
       " 2.630739655716543e-29,\n",
       " 3.6501698846140565e-29,\n",
       " 5.175023112523328e-29,\n",
       " 6.392825329398942e-29,\n",
       " 5.729125194585688e-29,\n",
       " 5.672967484819787e-29,\n",
       " 6.369369910088736e-29,\n",
       " 6.690321320496008e-29,\n",
       " 7.183249247140445e-29,\n",
       " 2.2812465653865599e-29,\n",
       " 2.3710686278006886e-29,\n",
       " 2.4546530846074332e-29,\n",
       " 2.566957068930191e-29,\n",
       " 2.487287666588521e-29,\n",
       " 2.6083681738531624e-29,\n",
       " 2.8762511864959516e-29,\n",
       " 5.021506935729667e-29,\n",
       " 4.4852154926811357e-29,\n",
       " 4.7818192365461534e-29,\n",
       " 4.611670247270279e-29,\n",
       " 4.876982444363865e-29,\n",
       " 4.6888019359836647e-29,\n",
       " 5.002066779426955e-29,\n",
       " 5.845689697057295e-29,\n",
       " 6.904383618989788e-29,\n",
       " 4.528087596022857e-29,\n",
       " -99.0,\n",
       " -99.0]"
      ]
     },
     "execution_count": 15,
     "metadata": {},
     "output_type": "execute_result"
    }
   ],
   "source": [
    "gal_test = cosmos_inp_for_emu[3, 1:-1]\n",
    "gal_test = [gal_test[2*k] for k in range(len(gal_test)//2)]\n",
    "gal_test"
   ]
  },
  {
   "cell_type": "code",
   "execution_count": 16,
   "id": "bc592a9f",
   "metadata": {},
   "outputs": [
    {
     "name": "stderr",
     "output_type": "stream",
     "text": [
      "/tmp/ipykernel_3853/1570034773.py:1: RuntimeWarning: invalid value encountered in log10\n",
      "  mags_test = -2.5*np.log10(gal_test) - 48.6\n"
     ]
    }
   ],
   "source": [
    "mags_test = -2.5*np.log10(gal_test) - 48.6"
   ]
  },
  {
   "cell_type": "code",
   "execution_count": 17,
   "id": "98d598b9",
   "metadata": {},
   "outputs": [
    {
     "data": {
      "text/plain": [
       "array([23.04142337, 23.00015055, 22.84980532, 22.49421731, 22.11521927,\n",
       "       21.8857679 , 22.00477922, 22.01547426, 21.88975882, 21.83638256,\n",
       "       21.75919766, 23.00456943, 22.96263969, 22.92502469, 22.87645349,\n",
       "       22.91068496, 22.85907777, 22.75293297, 22.14791483, 22.27054172,\n",
       "       22.20101711, 22.24035439, 22.17962202, 22.22234528, 22.15212629,\n",
       "       21.9829106 , 21.80218772, 22.26021295,         nan,         nan])"
      ]
     },
     "execution_count": 17,
     "metadata": {},
     "output_type": "execute_result"
    }
   ],
   "source": [
    "mags_test"
   ]
  },
  {
   "cell_type": "code",
   "execution_count": 18,
   "id": "3c78ff25",
   "metadata": {},
   "outputs": [
    {
     "data": {
      "text/plain": [
       "array([28, 29])"
      ]
     },
     "execution_count": 18,
     "metadata": {},
     "output_type": "execute_result"
    }
   ],
   "source": [
    "missing_filts = np.where(np.isnan(mags_test))[0]\n",
    "missing_filts"
   ]
  },
  {
   "cell_type": "code",
   "execution_count": 19,
   "id": "1c7f60ab",
   "metadata": {},
   "outputs": [
    {
     "data": {
      "text/plain": [
       "array([28, 29])"
      ]
     },
     "execution_count": 19,
     "metadata": {},
     "output_type": "execute_result"
    }
   ],
   "source": [
    "check = np.where(np.array(gal_test)<=0.)[0]\n",
    "check"
   ]
  },
  {
   "cell_type": "code",
   "execution_count": 20,
   "id": "7e076c41",
   "metadata": {},
   "outputs": [
    {
     "data": {
      "text/plain": [
       "['/home/joseph/PhotoZ_PhD/LEPHARE/sed/GAL/FORS2_KinCalClus_batch5/AVG_CLUST_CWW_Sbc_ext.sed',\n",
       " '/home/joseph/PhotoZ_PhD/LEPHARE/sed/GAL/FORS2_KinCalClus_batch5/AVG_CLUST_CWW_E_ext.sed',\n",
       " '/home/joseph/PhotoZ_PhD/LEPHARE/sed/GAL/FORS2_KinCalClus_batch5/AVG_CLUST_CWW_Im_ext.sed',\n",
       " '/home/joseph/PhotoZ_PhD/LEPHARE/sed/GAL/FORS2_KinCalClus_batch5/AVG_CLUST_CWW_Scd_ext.sed',\n",
       " '/home/joseph/PhotoZ_PhD/LEPHARE/sed/GAL/FORS2_KinCalClus_batch5/AVG_CLUST_KIN_Sb_ext.sed',\n",
       " '/home/joseph/PhotoZ_PhD/LEPHARE/sed/GAL/FORS2_KinCalClus_batch5/AVG_CLUST_KIN_Sa_ext.sed',\n",
       " '/home/joseph/PhotoZ_PhD/LEPHARE/sed/GAL/FORS2_KinCalClus_batch5/Zsup1_CLUST_CWW_Sbc_ext_id226.sed',\n",
       " '/home/joseph/PhotoZ_PhD/LEPHARE/sed/GAL/FORS2_KinCalClus_batch5/Zsup1_CLUST_CWW_Sbc_ext_id227.sed',\n",
       " '/home/joseph/PhotoZ_PhD/LEPHARE/sed/GAL/FORS2_KinCalClus_batch5/Zsup1_CLUST_CWW_Sbc_ext_id451.sed',\n",
       " '/home/joseph/PhotoZ_PhD/LEPHARE/sed/GAL/FORS2_KinCalClus_batch5/Zsup1_CLUST_CWW_Sbc_ext_id714.sed',\n",
       " '/home/joseph/PhotoZ_PhD/LEPHARE/sed/GAL/FORS2_KinCalClus_batch5/EXT1_CLUST_CWW_Sbc_ext_id496.sed',\n",
       " '/home/joseph/PhotoZ_PhD/LEPHARE/sed/GAL/FORS2_KinCalClus_batch5/EXT2_CLUST_CWW_Sbc_ext_id589.sed',\n",
       " '/home/joseph/PhotoZ_PhD/LEPHARE/sed/GAL/FORS2_KinCalClus_batch5/EXT1_CLUST_CWW_E_ext_id304.sed',\n",
       " '/home/joseph/PhotoZ_PhD/LEPHARE/sed/GAL/FORS2_KinCalClus_batch5/EXT2_CLUST_CWW_E_ext_id379.sed',\n",
       " '/home/joseph/PhotoZ_PhD/LEPHARE/sed/GAL/FORS2_KinCalClus_batch5/Zsup1_CLUST_CWW_Im_ext_id87.sed',\n",
       " '/home/joseph/PhotoZ_PhD/LEPHARE/sed/GAL/FORS2_KinCalClus_batch5/Zsup1_CLUST_CWW_Im_ext_id107.sed',\n",
       " '/home/joseph/PhotoZ_PhD/LEPHARE/sed/GAL/FORS2_KinCalClus_batch5/Zsup1_CLUST_CWW_Im_ext_id113.sed',\n",
       " '/home/joseph/PhotoZ_PhD/LEPHARE/sed/GAL/FORS2_KinCalClus_batch5/Zsup1_CLUST_CWW_Im_ext_id114.sed',\n",
       " '/home/joseph/PhotoZ_PhD/LEPHARE/sed/GAL/FORS2_KinCalClus_batch5/Zsup1_CLUST_CWW_Im_ext_id265.sed',\n",
       " '/home/joseph/PhotoZ_PhD/LEPHARE/sed/GAL/FORS2_KinCalClus_batch5/Zsup1_CLUST_CWW_Im_ext_id537.sed',\n",
       " '/home/joseph/PhotoZ_PhD/LEPHARE/sed/GAL/FORS2_KinCalClus_batch5/Zsup1_CLUST_CWW_Im_ext_id546.sed',\n",
       " '/home/joseph/PhotoZ_PhD/LEPHARE/sed/GAL/FORS2_KinCalClus_batch5/EXT1_CLUST_CWW_Im_ext_id344.sed',\n",
       " '/home/joseph/PhotoZ_PhD/LEPHARE/sed/GAL/FORS2_KinCalClus_batch5/EXT2_CLUST_CWW_Im_ext_id699.sed',\n",
       " '/home/joseph/PhotoZ_PhD/LEPHARE/sed/GAL/FORS2_KinCalClus_batch5/Zsup1_CLUST_CWW_Scd_ext_id45.sed',\n",
       " '/home/joseph/PhotoZ_PhD/LEPHARE/sed/GAL/FORS2_KinCalClus_batch5/Zsup1_CLUST_CWW_Scd_ext_id268.sed',\n",
       " '/home/joseph/PhotoZ_PhD/LEPHARE/sed/GAL/FORS2_KinCalClus_batch5/Zsup1_CLUST_CWW_Scd_ext_id291.sed',\n",
       " '/home/joseph/PhotoZ_PhD/LEPHARE/sed/GAL/FORS2_KinCalClus_batch5/Zsup1_CLUST_CWW_Scd_ext_id354.sed',\n",
       " '/home/joseph/PhotoZ_PhD/LEPHARE/sed/GAL/FORS2_KinCalClus_batch5/Zsup1_CLUST_CWW_Scd_ext_id639.sed',\n",
       " '/home/joseph/PhotoZ_PhD/LEPHARE/sed/GAL/FORS2_KinCalClus_batch5/EXT1_CLUST_CWW_Scd_ext_id532.sed',\n",
       " '/home/joseph/PhotoZ_PhD/LEPHARE/sed/GAL/FORS2_KinCalClus_batch5/EXT2_CLUST_CWW_Scd_ext_id585.sed',\n",
       " '/home/joseph/PhotoZ_PhD/LEPHARE/sed/GAL/FORS2_KinCalClus_batch5/Zsup1_CLUST_KIN_Sb_ext_id282.sed',\n",
       " '/home/joseph/PhotoZ_PhD/LEPHARE/sed/GAL/FORS2_KinCalClus_batch5/EXT1_CLUST_KIN_Sb_ext_id497.sed',\n",
       " '/home/joseph/PhotoZ_PhD/LEPHARE/sed/GAL/FORS2_KinCalClus_batch5/EXT2_CLUST_KIN_Sb_ext_id512.sed',\n",
       " '/home/joseph/PhotoZ_PhD/LEPHARE/sed/GAL/FORS2_KinCalClus_batch5/EXT1_CLUST_KIN_Sa_ext_id223.sed',\n",
       " '/home/joseph/PhotoZ_PhD/LEPHARE/sed/GAL/FORS2_KinCalClus_batch5/EXT2_CLUST_KIN_Sa_ext_id674.sed']"
      ]
     },
     "execution_count": 20,
     "metadata": {},
     "output_type": "execute_result"
    }
   ],
   "source": [
    "sed_file=os.path.abspath(\"../lephare_cosmos/SED_FORS2_KinCalClus_SL_v5.list\")\n",
    "sed_list = []\n",
    "with open(sed_file, 'r') as seds:\n",
    "    for sed in seds:\n",
    "        if sed[0] == \"#\":\n",
    "            pass\n",
    "        else:\n",
    "            sed_list.append(os.path.abspath(os.path.join('../LEPHARE/sed/GAL', sed[:-1])))\n",
    "sed_list"
   ]
  },
  {
   "cell_type": "code",
   "execution_count": 21,
   "id": "40061e2a",
   "metadata": {},
   "outputs": [
    {
     "data": {
      "text/plain": [
       "{'AVG_CLUST_CWW_Sbc': '/home/joseph/PhotoZ_PhD/LEPHARE/sed/GAL/FORS2_KinCalClus_batch5/AVG_CLUST_CWW_Sbc_ext.sed',\n",
       " 'AVG_CLUST_CWW_E': '/home/joseph/PhotoZ_PhD/LEPHARE/sed/GAL/FORS2_KinCalClus_batch5/AVG_CLUST_CWW_E_ext.sed',\n",
       " 'AVG_CLUST_CWW_Im': '/home/joseph/PhotoZ_PhD/LEPHARE/sed/GAL/FORS2_KinCalClus_batch5/AVG_CLUST_CWW_Im_ext.sed',\n",
       " 'AVG_CLUST_CWW_Scd': '/home/joseph/PhotoZ_PhD/LEPHARE/sed/GAL/FORS2_KinCalClus_batch5/AVG_CLUST_CWW_Scd_ext.sed',\n",
       " 'AVG_CLUST_KIN_Sb': '/home/joseph/PhotoZ_PhD/LEPHARE/sed/GAL/FORS2_KinCalClus_batch5/AVG_CLUST_KIN_Sb_ext.sed',\n",
       " 'AVG_CLUST_KIN_Sa': '/home/joseph/PhotoZ_PhD/LEPHARE/sed/GAL/FORS2_KinCalClus_batch5/AVG_CLUST_KIN_Sa_ext.sed',\n",
       " 'CWW_Sbc-id226': '/home/joseph/PhotoZ_PhD/LEPHARE/sed/GAL/FORS2_KinCalClus_batch5/Zsup1_CLUST_CWW_Sbc_ext_id226.sed',\n",
       " 'CWW_Sbc-id227': '/home/joseph/PhotoZ_PhD/LEPHARE/sed/GAL/FORS2_KinCalClus_batch5/Zsup1_CLUST_CWW_Sbc_ext_id227.sed',\n",
       " 'CWW_Sbc-id451': '/home/joseph/PhotoZ_PhD/LEPHARE/sed/GAL/FORS2_KinCalClus_batch5/Zsup1_CLUST_CWW_Sbc_ext_id451.sed',\n",
       " 'CWW_Sbc-id714': '/home/joseph/PhotoZ_PhD/LEPHARE/sed/GAL/FORS2_KinCalClus_batch5/Zsup1_CLUST_CWW_Sbc_ext_id714.sed',\n",
       " 'CWW_Sbc-id496': '/home/joseph/PhotoZ_PhD/LEPHARE/sed/GAL/FORS2_KinCalClus_batch5/EXT1_CLUST_CWW_Sbc_ext_id496.sed',\n",
       " 'CWW_Sbc-id589': '/home/joseph/PhotoZ_PhD/LEPHARE/sed/GAL/FORS2_KinCalClus_batch5/EXT2_CLUST_CWW_Sbc_ext_id589.sed',\n",
       " 'CWW_E-id304': '/home/joseph/PhotoZ_PhD/LEPHARE/sed/GAL/FORS2_KinCalClus_batch5/EXT1_CLUST_CWW_E_ext_id304.sed',\n",
       " 'CWW_E-id379': '/home/joseph/PhotoZ_PhD/LEPHARE/sed/GAL/FORS2_KinCalClus_batch5/EXT2_CLUST_CWW_E_ext_id379.sed',\n",
       " 'CWW_Im-id87': '/home/joseph/PhotoZ_PhD/LEPHARE/sed/GAL/FORS2_KinCalClus_batch5/Zsup1_CLUST_CWW_Im_ext_id87.sed',\n",
       " 'CWW_Im-id107': '/home/joseph/PhotoZ_PhD/LEPHARE/sed/GAL/FORS2_KinCalClus_batch5/Zsup1_CLUST_CWW_Im_ext_id107.sed',\n",
       " 'CWW_Im-id113': '/home/joseph/PhotoZ_PhD/LEPHARE/sed/GAL/FORS2_KinCalClus_batch5/Zsup1_CLUST_CWW_Im_ext_id113.sed',\n",
       " 'CWW_Im-id114': '/home/joseph/PhotoZ_PhD/LEPHARE/sed/GAL/FORS2_KinCalClus_batch5/Zsup1_CLUST_CWW_Im_ext_id114.sed',\n",
       " 'CWW_Im-id265': '/home/joseph/PhotoZ_PhD/LEPHARE/sed/GAL/FORS2_KinCalClus_batch5/Zsup1_CLUST_CWW_Im_ext_id265.sed',\n",
       " 'CWW_Im-id537': '/home/joseph/PhotoZ_PhD/LEPHARE/sed/GAL/FORS2_KinCalClus_batch5/Zsup1_CLUST_CWW_Im_ext_id537.sed',\n",
       " 'CWW_Im-id546': '/home/joseph/PhotoZ_PhD/LEPHARE/sed/GAL/FORS2_KinCalClus_batch5/Zsup1_CLUST_CWW_Im_ext_id546.sed',\n",
       " 'CWW_Im-id344': '/home/joseph/PhotoZ_PhD/LEPHARE/sed/GAL/FORS2_KinCalClus_batch5/EXT1_CLUST_CWW_Im_ext_id344.sed',\n",
       " 'CWW_Im-id699': '/home/joseph/PhotoZ_PhD/LEPHARE/sed/GAL/FORS2_KinCalClus_batch5/EXT2_CLUST_CWW_Im_ext_id699.sed',\n",
       " 'CWW_Scd-id45': '/home/joseph/PhotoZ_PhD/LEPHARE/sed/GAL/FORS2_KinCalClus_batch5/Zsup1_CLUST_CWW_Scd_ext_id45.sed',\n",
       " 'CWW_Scd-id268': '/home/joseph/PhotoZ_PhD/LEPHARE/sed/GAL/FORS2_KinCalClus_batch5/Zsup1_CLUST_CWW_Scd_ext_id268.sed',\n",
       " 'CWW_Scd-id291': '/home/joseph/PhotoZ_PhD/LEPHARE/sed/GAL/FORS2_KinCalClus_batch5/Zsup1_CLUST_CWW_Scd_ext_id291.sed',\n",
       " 'CWW_Scd-id354': '/home/joseph/PhotoZ_PhD/LEPHARE/sed/GAL/FORS2_KinCalClus_batch5/Zsup1_CLUST_CWW_Scd_ext_id354.sed',\n",
       " 'CWW_Scd-id639': '/home/joseph/PhotoZ_PhD/LEPHARE/sed/GAL/FORS2_KinCalClus_batch5/Zsup1_CLUST_CWW_Scd_ext_id639.sed',\n",
       " 'CWW_Scd-id532': '/home/joseph/PhotoZ_PhD/LEPHARE/sed/GAL/FORS2_KinCalClus_batch5/EXT1_CLUST_CWW_Scd_ext_id532.sed',\n",
       " 'CWW_Scd-id585': '/home/joseph/PhotoZ_PhD/LEPHARE/sed/GAL/FORS2_KinCalClus_batch5/EXT2_CLUST_CWW_Scd_ext_id585.sed',\n",
       " 'KIN_Sb-id282': '/home/joseph/PhotoZ_PhD/LEPHARE/sed/GAL/FORS2_KinCalClus_batch5/Zsup1_CLUST_KIN_Sb_ext_id282.sed',\n",
       " 'KIN_Sb-id497': '/home/joseph/PhotoZ_PhD/LEPHARE/sed/GAL/FORS2_KinCalClus_batch5/EXT1_CLUST_KIN_Sb_ext_id497.sed',\n",
       " 'KIN_Sb-id512': '/home/joseph/PhotoZ_PhD/LEPHARE/sed/GAL/FORS2_KinCalClus_batch5/EXT2_CLUST_KIN_Sb_ext_id512.sed',\n",
       " 'KIN_Sa-id223': '/home/joseph/PhotoZ_PhD/LEPHARE/sed/GAL/FORS2_KinCalClus_batch5/EXT1_CLUST_KIN_Sa_ext_id223.sed',\n",
       " 'KIN_Sa-id674': '/home/joseph/PhotoZ_PhD/LEPHARE/sed/GAL/FORS2_KinCalClus_batch5/EXT2_CLUST_KIN_Sa_ext_id674.sed'}"
      ]
     },
     "execution_count": 21,
     "metadata": {},
     "output_type": "execute_result"
    }
   ],
   "source": [
    "sed_dict = {}\n",
    "for sed in sed_list:\n",
    "    file = sed.split('/')[-1]\n",
    "    attrs = file.split(\"_\")\n",
    "    if attrs[0] == \"AVG\":\n",
    "        name=\"_\".join(attrs[:4])\n",
    "    else:\n",
    "        name=\"_\".join(attrs[2:4])+\"-\"+(attrs[-1]).split('.')[0]\n",
    "    sed_dict[name] = sed\n",
    "sed_dict"
   ]
  },
  {
   "cell_type": "code",
   "execution_count": 22,
   "id": "4a34db6e",
   "metadata": {},
   "outputs": [
    {
     "data": {
      "text/plain": [
       "{'path': '/home/joseph/PhotoZ_PhD/EmuLP/COSMOS2020_emu.inp', 'type': 'F'}"
      ]
     },
     "execution_count": 22,
     "metadata": {},
     "output_type": "execute_result"
    }
   ],
   "source": [
    "cosmo_dict = {\"h0\": 70.0, \"om0\": 0.3, \"l0\": 0.7}\n",
    "z_grid_dict = {\"z_min\": 0.01, \"z_max\": 6., \"z_step\": 0.1}\n",
    "wl_grid_dict = {\"lambda_min\": 100., \"lambda_max\": 100000., \"lambda_step\": 10.}\n",
    "extinc_dict = {\"Calzetti\":os.path.abspath('../LEPHARE/ext/SB_calzetti.dat')}\n",
    "ebv_list = [0., 0.05, 0.1, 0.15, 0.25, 0.4] #[0., 0.05, 0.1, 0.15, 0.2, 0.25, 0.3, 0.35, 0.4, 0.5]\n",
    "estimator = \"chi2\"\n",
    "data_inp_dict = {\"path\": os.path.abspath(\"COSMOS2020_emu.inp\"), \"type\": \"F\"}\n",
    "data_inp_dict"
   ]
  },
  {
   "cell_type": "code",
   "execution_count": 23,
   "id": "087c3f11",
   "metadata": {},
   "outputs": [
    {
     "data": {
      "text/plain": [
       "{'Cosmology': {'h0': 70.0, 'om0': 0.3, 'l0': 0.7},\n",
       " 'Z_GRID': {'z_min': 0.01, 'z_max': 6.0, 'z_step': 0.1},\n",
       " 'WL_GRID': {'lambda_min': 100.0, 'lambda_max': 100000.0, 'lambda_step': 10.0},\n",
       " 'Templates': {'AVG_CLUST_CWW_Sbc': '/home/joseph/PhotoZ_PhD/LEPHARE/sed/GAL/FORS2_KinCalClus_batch5/AVG_CLUST_CWW_Sbc_ext.sed',\n",
       "  'AVG_CLUST_CWW_E': '/home/joseph/PhotoZ_PhD/LEPHARE/sed/GAL/FORS2_KinCalClus_batch5/AVG_CLUST_CWW_E_ext.sed',\n",
       "  'AVG_CLUST_CWW_Im': '/home/joseph/PhotoZ_PhD/LEPHARE/sed/GAL/FORS2_KinCalClus_batch5/AVG_CLUST_CWW_Im_ext.sed',\n",
       "  'AVG_CLUST_CWW_Scd': '/home/joseph/PhotoZ_PhD/LEPHARE/sed/GAL/FORS2_KinCalClus_batch5/AVG_CLUST_CWW_Scd_ext.sed',\n",
       "  'AVG_CLUST_KIN_Sb': '/home/joseph/PhotoZ_PhD/LEPHARE/sed/GAL/FORS2_KinCalClus_batch5/AVG_CLUST_KIN_Sb_ext.sed',\n",
       "  'AVG_CLUST_KIN_Sa': '/home/joseph/PhotoZ_PhD/LEPHARE/sed/GAL/FORS2_KinCalClus_batch5/AVG_CLUST_KIN_Sa_ext.sed',\n",
       "  'CWW_Sbc-id226': '/home/joseph/PhotoZ_PhD/LEPHARE/sed/GAL/FORS2_KinCalClus_batch5/Zsup1_CLUST_CWW_Sbc_ext_id226.sed',\n",
       "  'CWW_Sbc-id227': '/home/joseph/PhotoZ_PhD/LEPHARE/sed/GAL/FORS2_KinCalClus_batch5/Zsup1_CLUST_CWW_Sbc_ext_id227.sed',\n",
       "  'CWW_Sbc-id451': '/home/joseph/PhotoZ_PhD/LEPHARE/sed/GAL/FORS2_KinCalClus_batch5/Zsup1_CLUST_CWW_Sbc_ext_id451.sed',\n",
       "  'CWW_Sbc-id714': '/home/joseph/PhotoZ_PhD/LEPHARE/sed/GAL/FORS2_KinCalClus_batch5/Zsup1_CLUST_CWW_Sbc_ext_id714.sed',\n",
       "  'CWW_Sbc-id496': '/home/joseph/PhotoZ_PhD/LEPHARE/sed/GAL/FORS2_KinCalClus_batch5/EXT1_CLUST_CWW_Sbc_ext_id496.sed',\n",
       "  'CWW_Sbc-id589': '/home/joseph/PhotoZ_PhD/LEPHARE/sed/GAL/FORS2_KinCalClus_batch5/EXT2_CLUST_CWW_Sbc_ext_id589.sed',\n",
       "  'CWW_E-id304': '/home/joseph/PhotoZ_PhD/LEPHARE/sed/GAL/FORS2_KinCalClus_batch5/EXT1_CLUST_CWW_E_ext_id304.sed',\n",
       "  'CWW_E-id379': '/home/joseph/PhotoZ_PhD/LEPHARE/sed/GAL/FORS2_KinCalClus_batch5/EXT2_CLUST_CWW_E_ext_id379.sed',\n",
       "  'CWW_Im-id87': '/home/joseph/PhotoZ_PhD/LEPHARE/sed/GAL/FORS2_KinCalClus_batch5/Zsup1_CLUST_CWW_Im_ext_id87.sed',\n",
       "  'CWW_Im-id107': '/home/joseph/PhotoZ_PhD/LEPHARE/sed/GAL/FORS2_KinCalClus_batch5/Zsup1_CLUST_CWW_Im_ext_id107.sed',\n",
       "  'CWW_Im-id113': '/home/joseph/PhotoZ_PhD/LEPHARE/sed/GAL/FORS2_KinCalClus_batch5/Zsup1_CLUST_CWW_Im_ext_id113.sed',\n",
       "  'CWW_Im-id114': '/home/joseph/PhotoZ_PhD/LEPHARE/sed/GAL/FORS2_KinCalClus_batch5/Zsup1_CLUST_CWW_Im_ext_id114.sed',\n",
       "  'CWW_Im-id265': '/home/joseph/PhotoZ_PhD/LEPHARE/sed/GAL/FORS2_KinCalClus_batch5/Zsup1_CLUST_CWW_Im_ext_id265.sed',\n",
       "  'CWW_Im-id537': '/home/joseph/PhotoZ_PhD/LEPHARE/sed/GAL/FORS2_KinCalClus_batch5/Zsup1_CLUST_CWW_Im_ext_id537.sed',\n",
       "  'CWW_Im-id546': '/home/joseph/PhotoZ_PhD/LEPHARE/sed/GAL/FORS2_KinCalClus_batch5/Zsup1_CLUST_CWW_Im_ext_id546.sed',\n",
       "  'CWW_Im-id344': '/home/joseph/PhotoZ_PhD/LEPHARE/sed/GAL/FORS2_KinCalClus_batch5/EXT1_CLUST_CWW_Im_ext_id344.sed',\n",
       "  'CWW_Im-id699': '/home/joseph/PhotoZ_PhD/LEPHARE/sed/GAL/FORS2_KinCalClus_batch5/EXT2_CLUST_CWW_Im_ext_id699.sed',\n",
       "  'CWW_Scd-id45': '/home/joseph/PhotoZ_PhD/LEPHARE/sed/GAL/FORS2_KinCalClus_batch5/Zsup1_CLUST_CWW_Scd_ext_id45.sed',\n",
       "  'CWW_Scd-id268': '/home/joseph/PhotoZ_PhD/LEPHARE/sed/GAL/FORS2_KinCalClus_batch5/Zsup1_CLUST_CWW_Scd_ext_id268.sed',\n",
       "  'CWW_Scd-id291': '/home/joseph/PhotoZ_PhD/LEPHARE/sed/GAL/FORS2_KinCalClus_batch5/Zsup1_CLUST_CWW_Scd_ext_id291.sed',\n",
       "  'CWW_Scd-id354': '/home/joseph/PhotoZ_PhD/LEPHARE/sed/GAL/FORS2_KinCalClus_batch5/Zsup1_CLUST_CWW_Scd_ext_id354.sed',\n",
       "  'CWW_Scd-id639': '/home/joseph/PhotoZ_PhD/LEPHARE/sed/GAL/FORS2_KinCalClus_batch5/Zsup1_CLUST_CWW_Scd_ext_id639.sed',\n",
       "  'CWW_Scd-id532': '/home/joseph/PhotoZ_PhD/LEPHARE/sed/GAL/FORS2_KinCalClus_batch5/EXT1_CLUST_CWW_Scd_ext_id532.sed',\n",
       "  'CWW_Scd-id585': '/home/joseph/PhotoZ_PhD/LEPHARE/sed/GAL/FORS2_KinCalClus_batch5/EXT2_CLUST_CWW_Scd_ext_id585.sed',\n",
       "  'KIN_Sb-id282': '/home/joseph/PhotoZ_PhD/LEPHARE/sed/GAL/FORS2_KinCalClus_batch5/Zsup1_CLUST_KIN_Sb_ext_id282.sed',\n",
       "  'KIN_Sb-id497': '/home/joseph/PhotoZ_PhD/LEPHARE/sed/GAL/FORS2_KinCalClus_batch5/EXT1_CLUST_KIN_Sb_ext_id497.sed',\n",
       "  'KIN_Sb-id512': '/home/joseph/PhotoZ_PhD/LEPHARE/sed/GAL/FORS2_KinCalClus_batch5/EXT2_CLUST_KIN_Sb_ext_id512.sed',\n",
       "  'KIN_Sa-id223': '/home/joseph/PhotoZ_PhD/LEPHARE/sed/GAL/FORS2_KinCalClus_batch5/EXT1_CLUST_KIN_Sa_ext_id223.sed',\n",
       "  'KIN_Sa-id674': '/home/joseph/PhotoZ_PhD/LEPHARE/sed/GAL/FORS2_KinCalClus_batch5/EXT2_CLUST_KIN_Sa_ext_id674.sed'},\n",
       " 'Filters': {'cosmos_u_cfht': {'path': '/home/joseph/PhotoZ_PhD/LEPHARE/filt/cosmos/u_cfht.lowres',\n",
       "   'transmission': 'photons'},\n",
       "  'cosmos_u_new': {'path': '/home/joseph/PhotoZ_PhD/LEPHARE/filt/cosmos/u_new.pb',\n",
       "   'transmission': 'photons'},\n",
       "  'hsc_gHSC': {'path': '/home/joseph/PhotoZ_PhD/LEPHARE/filt/hsc/gHSC.pb',\n",
       "   'transmission': 'photons'},\n",
       "  'hsc_rHSC': {'path': '/home/joseph/PhotoZ_PhD/LEPHARE/filt/hsc/rHSC.pb',\n",
       "   'transmission': 'photons'},\n",
       "  'hsc_iHSC': {'path': '/home/joseph/PhotoZ_PhD/LEPHARE/filt/hsc/iHSC.pb',\n",
       "   'transmission': 'photons'},\n",
       "  'hsc_zHSC': {'path': '/home/joseph/PhotoZ_PhD/LEPHARE/filt/hsc/zHSC.pb',\n",
       "   'transmission': 'photons'},\n",
       "  'hsc_yHSC': {'path': '/home/joseph/PhotoZ_PhD/LEPHARE/filt/hsc/yHSC.pb',\n",
       "   'transmission': 'photons'},\n",
       "  'vista_Y': {'path': '/home/joseph/PhotoZ_PhD/LEPHARE/filt/vista/Y.lowres',\n",
       "   'transmission': 'photons'},\n",
       "  'vista_J': {'path': '/home/joseph/PhotoZ_PhD/LEPHARE/filt/vista/J.lowres',\n",
       "   'transmission': 'photons'},\n",
       "  'vista_H': {'path': '/home/joseph/PhotoZ_PhD/LEPHARE/filt/vista/H.lowres',\n",
       "   'transmission': 'photons'},\n",
       "  'vista_K': {'path': '/home/joseph/PhotoZ_PhD/LEPHARE/filt/vista/K.lowres',\n",
       "   'transmission': 'photons'},\n",
       "  'cosmos_IB427': {'path': '/home/joseph/PhotoZ_PhD/LEPHARE/filt/cosmos/IB427.lowres',\n",
       "   'transmission': 'photons'},\n",
       "  'cosmos_IB464': {'path': '/home/joseph/PhotoZ_PhD/LEPHARE/filt/cosmos/IB464.lowres',\n",
       "   'transmission': 'photons'},\n",
       "  'cosmos_IB484': {'path': '/home/joseph/PhotoZ_PhD/LEPHARE/filt/cosmos/IB484.lowres',\n",
       "   'transmission': 'photons'},\n",
       "  'cosmos_IB505': {'path': '/home/joseph/PhotoZ_PhD/LEPHARE/filt/cosmos/IB505.lowres',\n",
       "   'transmission': 'photons'},\n",
       "  'cosmos_IB527': {'path': '/home/joseph/PhotoZ_PhD/LEPHARE/filt/cosmos/IB527.lowres',\n",
       "   'transmission': 'photons'},\n",
       "  'cosmos_IB574': {'path': '/home/joseph/PhotoZ_PhD/LEPHARE/filt/cosmos/IB574.lowres',\n",
       "   'transmission': 'photons'},\n",
       "  'cosmos_IB624': {'path': '/home/joseph/PhotoZ_PhD/LEPHARE/filt/cosmos/IB624.lowres',\n",
       "   'transmission': 'photons'},\n",
       "  'cosmos_IB679': {'path': '/home/joseph/PhotoZ_PhD/LEPHARE/filt/cosmos/IB679.lowres',\n",
       "   'transmission': 'photons'},\n",
       "  'cosmos_IB709': {'path': '/home/joseph/PhotoZ_PhD/LEPHARE/filt/cosmos/IB709.lowres',\n",
       "   'transmission': 'photons'},\n",
       "  'cosmos_IB738': {'path': '/home/joseph/PhotoZ_PhD/LEPHARE/filt/cosmos/IB738.lowres',\n",
       "   'transmission': 'photons'},\n",
       "  'cosmos_IB767': {'path': '/home/joseph/PhotoZ_PhD/LEPHARE/filt/cosmos/IB767.lowres',\n",
       "   'transmission': 'photons'},\n",
       "  'cosmos_IB827': {'path': '/home/joseph/PhotoZ_PhD/LEPHARE/filt/cosmos/IB827.lowres',\n",
       "   'transmission': 'photons'},\n",
       "  'cosmos_NB711': {'path': '/home/joseph/PhotoZ_PhD/LEPHARE/filt/cosmos/NB711.lowres',\n",
       "   'transmission': 'photons'},\n",
       "  'cosmos_NB816': {'path': '/home/joseph/PhotoZ_PhD/LEPHARE/filt/cosmos/NB816.lowres',\n",
       "   'transmission': 'photons'},\n",
       "  'vista_NB118': {'path': '/home/joseph/PhotoZ_PhD/LEPHARE/filt/vista/NB118.lowres',\n",
       "   'transmission': 'photons'},\n",
       "  'cosmos_irac_ch1': {'path': '/home/joseph/PhotoZ_PhD/LEPHARE/filt/cosmos/irac_ch1.lowres',\n",
       "   'transmission': 'photons'},\n",
       "  'cosmos_irac_ch2': {'path': '/home/joseph/PhotoZ_PhD/LEPHARE/filt/cosmos/irac_ch2.lowres',\n",
       "   'transmission': 'photons'},\n",
       "  'cosmos_irac_ch3': {'path': '/home/joseph/PhotoZ_PhD/LEPHARE/filt/cosmos/irac_ch3.lowres',\n",
       "   'transmission': 'photons'},\n",
       "  'cosmos_irac_ch4': {'path': '/home/joseph/PhotoZ_PhD/LEPHARE/filt/cosmos/irac_ch4.lowres',\n",
       "   'transmission': 'photons'}},\n",
       " 'Dataset': {'path': '/home/joseph/PhotoZ_PhD/EmuLP/COSMOS2020_emu.inp',\n",
       "  'type': 'F'},\n",
       " 'Extinctions': {'Calzetti': '/home/joseph/PhotoZ_PhD/LEPHARE/ext/SB_calzetti.dat'},\n",
       " 'e_BV': [0.0, 0.05, 0.1, 0.15, 0.25, 0.4],\n",
       " 'Estimator': 'chi2',\n",
       " 'save results': True,\n",
       " 'run name': 'COSMOS2020-with-FORS2'}"
      ]
     },
     "execution_count": 23,
     "metadata": {},
     "output_type": "execute_result"
    }
   ],
   "source": [
    "run_opt_dict = {\"Cosmology\" : cosmo_dict,\\\n",
    "                \"Z_GRID\" : z_grid_dict,\\\n",
    "                \"WL_GRID\" : wl_grid_dict,\\\n",
    "                \"Templates\" : sed_dict,\\\n",
    "                \"Filters\" : filt_dict,\\\n",
    "                \"Dataset\" : data_inp_dict,\\\n",
    "                \"Extinctions\" : extinc_dict,\\\n",
    "                \"e_BV\": ebv_list,\\\n",
    "                \"Estimator\" : estimator,\\\n",
    "                \"save results\" : True,\\\n",
    "                \"run name\" : \"COSMOS2020-with-FORS2\"\n",
    "               }\n",
    "run_opt_dict"
   ]
  },
  {
   "cell_type": "code",
   "execution_count": 24,
   "id": "b8ceec97",
   "metadata": {},
   "outputs": [],
   "source": [
    "import json\n",
    "with open(\"COSMOS2020-with-FORS2.json\", \"w\") as wf:\n",
    "    json.dump(run_opt_dict, wf)"
   ]
  },
  {
   "cell_type": "code",
   "execution_count": null,
   "id": "6b1928b0",
   "metadata": {},
   "outputs": [],
   "source": []
  }
 ],
 "metadata": {
  "kernelspec": {
   "display_name": "Python 3 (ipykernel)",
   "language": "python",
   "name": "python3"
  },
  "language_info": {
   "codemirror_mode": {
    "name": "ipython",
    "version": 3
   },
   "file_extension": ".py",
   "mimetype": "text/x-python",
   "name": "python",
   "nbconvert_exporter": "python",
   "pygments_lexer": "ipython3",
   "version": "3.11.0"
  }
 },
 "nbformat": 4,
 "nbformat_minor": 5
}
